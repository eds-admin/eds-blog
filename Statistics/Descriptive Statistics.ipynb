{
 "cells": [
  {
   "cell_type": "markdown",
   "metadata": {
    "toc": "true"
   },
   "source": [
    "# Table of Contents\n",
    " <p><div class=\"lev1 toc-item\"><a href=\"#Descriptive-Statistics\" data-toc-modified-id=\"Descriptive-Statistics-1\"><span class=\"toc-item-num\">1&nbsp;&nbsp;</span>Descriptive Statistics</a></div><div class=\"lev2 toc-item\"><a href=\"#Requirements\" data-toc-modified-id=\"Requirements-11\"><span class=\"toc-item-num\">1.1&nbsp;&nbsp;</span>Requirements</a></div><div class=\"lev2 toc-item\"><a href=\"#Useful-Python-functions\" data-toc-modified-id=\"Useful-Python-functions-12\"><span class=\"toc-item-num\">1.2&nbsp;&nbsp;</span>Useful Python functions</a></div><div class=\"lev3 toc-item\"><a href=\"#Random\" data-toc-modified-id=\"Random-121\"><span class=\"toc-item-num\">1.2.1&nbsp;&nbsp;</span>Random</a></div><div class=\"lev3 toc-item\"><a href=\"#len()-&amp;-sum()\" data-toc-modified-id=\"len()-&amp;-sum()-122\"><span class=\"toc-item-num\">1.2.2&nbsp;&nbsp;</span><code>len()</code> &amp; <code>sum()</code></a></div><div class=\"lev3 toc-item\"><a href=\"#max()-&amp;-min()\" data-toc-modified-id=\"max()-&amp;-min()-123\"><span class=\"toc-item-num\">1.2.3&nbsp;&nbsp;</span><code>max()</code> &amp; <code>min()</code></a></div><div class=\"lev3 toc-item\"><a href=\"#sorted()\" data-toc-modified-id=\"sorted()-124\"><span class=\"toc-item-num\">1.2.4&nbsp;&nbsp;</span><code>sorted()</code></a></div><div class=\"lev2 toc-item\"><a href=\"#The-Mean\" data-toc-modified-id=\"The-Mean-13\"><span class=\"toc-item-num\">1.3&nbsp;&nbsp;</span>The Mean</a></div><div class=\"lev3 toc-item\"><a href=\"#1.-Arithmetic-mean\" data-toc-modified-id=\"1.-Arithmetic-mean-131\"><span class=\"toc-item-num\">1.3.1&nbsp;&nbsp;</span>1. Arithmetic mean</a></div><div class=\"lev3 toc-item\"><a href=\"#2.-Geometric-mean\" data-toc-modified-id=\"2.-Geometric-mean-132\"><span class=\"toc-item-num\">1.3.2&nbsp;&nbsp;</span>2. Geometric mean</a></div><div class=\"lev3 toc-item\"><a href=\"#3.-Harmonic-mean\" data-toc-modified-id=\"3.-Harmonic-mean-133\"><span class=\"toc-item-num\">1.3.3&nbsp;&nbsp;</span>3. Harmonic mean</a></div><div class=\"lev2 toc-item\"><a href=\"#The-Median\" data-toc-modified-id=\"The-Median-14\"><span class=\"toc-item-num\">1.4&nbsp;&nbsp;</span>The Median</a></div><div class=\"lev2 toc-item\"><a href=\"#The-Mode\" data-toc-modified-id=\"The-Mode-15\"><span class=\"toc-item-num\">1.5&nbsp;&nbsp;</span>The Mode</a></div><div class=\"lev2 toc-item\"><a href=\"#Percentiles\" data-toc-modified-id=\"Percentiles-16\"><span class=\"toc-item-num\">1.6&nbsp;&nbsp;</span>Percentiles</a></div><div class=\"lev2 toc-item\"><a href=\"#The-Boxplot\" data-toc-modified-id=\"The-Boxplot-17\"><span class=\"toc-item-num\">1.7&nbsp;&nbsp;</span>The Boxplot</a></div><div class=\"lev2 toc-item\"><a href=\"#Histogram\" data-toc-modified-id=\"Histogram-18\"><span class=\"toc-item-num\">1.8&nbsp;&nbsp;</span>Histogram</a></div><div class=\"lev2 toc-item\"><a href=\"#Variability\" data-toc-modified-id=\"Variability-19\"><span class=\"toc-item-num\">1.9&nbsp;&nbsp;</span>Variability</a></div><div class=\"lev3 toc-item\"><a href=\"#1.-Range\" data-toc-modified-id=\"1.-Range-191\"><span class=\"toc-item-num\">1.9.1&nbsp;&nbsp;</span>1. Range</a></div><div class=\"lev3 toc-item\"><a href=\"#2.-Inter-Quartile-Range\" data-toc-modified-id=\"2.-Inter-Quartile-Range-192\"><span class=\"toc-item-num\">1.9.2&nbsp;&nbsp;</span>2. Inter-Quartile Range</a></div><div class=\"lev3 toc-item\"><a href=\"#3.-Variance\" data-toc-modified-id=\"3.-Variance-193\"><span class=\"toc-item-num\">1.9.3&nbsp;&nbsp;</span>3. Variance</a></div><div class=\"lev2 toc-item\"><a href=\"#Next-time\" data-toc-modified-id=\"Next-time-110\"><span class=\"toc-item-num\">1.10&nbsp;&nbsp;</span>Next time</a></div><div class=\"lev2 toc-item\"><a href=\"#Useful-Resources\" data-toc-modified-id=\"Useful-Resources-111\"><span class=\"toc-item-num\">1.11&nbsp;&nbsp;</span>Useful Resources</a></div>"
   ]
  },
  {
   "cell_type": "markdown",
   "metadata": {},
   "source": [
    "# Descriptive Statistics\n",
    "Welcome to the notebook on descriptive statistics. Statistics is a very large field. People even go to grad school for it. For our site here, we will focus on some of the big hitters in statistics that make you a good data scientist. This is a cursory, whirlwind overview by somebody who has no letters after his name. So any mistakes or corrections, blame someone who does. And then send me an email or submit a pull request on Github and we'll square it away in no time.\n",
    "\n",
    "Descriptive statistics are measurements that describe a population (or sample of that population) of values. They tell you where the center tends to be, how spread out the values are, the shape of the distribution, and a bunch of other things that gradute students have put in their theses. But here we focus on some of the simpler values that you have to know to consider yourself a functional human, let alone data scientist. So follow along as we take a \\$5 hop-on hop-off tour of some of our basic statistics."
   ]
  },
  {
   "cell_type": "markdown",
   "metadata": {},
   "source": [
    "## Requirements\n",
    "We'll use two 3rd party Python libraries for displaying graphs. Run from terminal or shell:\n",
    "```shell\n",
    "> pip3 install seaborn\n",
    "> pip3 install pandas```"
   ]
  },
  {
   "cell_type": "code",
   "execution_count": 1,
   "metadata": {
    "collapsed": true
   },
   "outputs": [],
   "source": [
    "import seaborn as sns\n",
    "import random as random\n",
    "%matplotlib inline"
   ]
  },
  {
   "cell_type": "markdown",
   "metadata": {},
   "source": [
    "## Useful Python functions\n",
    "Many statistics require knowing the length or sum of your data. Let's chug through some useful [built-in functions](https://docs.python.org/3/library/functions.html).\n",
    "\n",
    "### Random\n",
    "We'll use the [`random` module](https://docs.python.org/3/library/random.html) a lot to generate random numbers to make fake datasets. The plain vanilla random generator will pull from a uniform distribution. There are also options to pull from other datasets. As we add more tools to our data science toolbox, we'll find that [NumPy's](https://docs.scipy.org/doc/numpy-1.13.0/index.html) random number generators to be more full-featured and play really nicely with [Pandas](https://pandas.pydata.org/), another key data science library. For now, we're going to avoid the overhead of learning another library and just use Python's standard library."
   ]
  },
  {
   "cell_type": "code",
   "execution_count": 2,
   "metadata": {},
   "outputs": [
    {
     "data": {
      "text/plain": [
       "[655, 115, 26, 760, 282, 251, 229, 143, 755, 105]"
      ]
     },
     "execution_count": 2,
     "metadata": {},
     "output_type": "execute_result"
    }
   ],
   "source": [
    "random.seed(42)\n",
    "values = [random.randrange(1,1001,1) for _ in range(10000)]\n",
    "values[0:10]"
   ]
  },
  {
   "cell_type": "markdown",
   "metadata": {},
   "source": [
    "### `len()` & `sum()`\n",
    "The building blocks of average. Self explanatory here."
   ]
  },
  {
   "cell_type": "code",
   "execution_count": 3,
   "metadata": {},
   "outputs": [
    {
     "data": {
      "text/plain": [
       "10000"
      ]
     },
     "execution_count": 3,
     "metadata": {},
     "output_type": "execute_result"
    }
   ],
   "source": [
    "len(values)"
   ]
  },
  {
   "cell_type": "code",
   "execution_count": 4,
   "metadata": {},
   "outputs": [
    {
     "data": {
      "text/plain": [
       "5021696"
      ]
     },
     "execution_count": 4,
     "metadata": {},
     "output_type": "execute_result"
    }
   ],
   "source": [
    "sum(values)"
   ]
  },
  {
   "cell_type": "markdown",
   "metadata": {},
   "source": [
    "Below we'll use Seaborn to plot and visualize some of our data. Don't worry about this too much. Visualization, while important, is not the focus of this notebook."
   ]
  },
  {
   "cell_type": "code",
   "execution_count": 5,
   "metadata": {},
   "outputs": [
    {
     "data": {
      "text/plain": [
       "<matplotlib.axes._subplots.AxesSubplot at 0x7fd12d51ca20>"
      ]
     },
     "execution_count": 5,
     "metadata": {},
     "output_type": "execute_result"
    },
    {
     "data": {
      "image/png": "[encoded data removed]",
      "text/plain": [
       "<matplotlib.figure.Figure at 0x7fd12d51cb38>"
      ]
     },
     "metadata": {},
     "output_type": "display_data"
    }
   ],
   "source": [
    "sns.stripplot(x=values, jitter=True, alpha=0.2)"
   ]
  },
  {
   "cell_type": "markdown",
   "metadata": {},
   "source": [
    "This graphy is pretty cluttered. That makes sense because it's 10,000 values between 1 and 1,000. That tells us there should be an average of 10 entries for each value. I'll leave counting this average as an exercise for the reader.\n",
    "\n",
    "Let's make a sparse number line with just 200 values between 1 and 1000. There should be a lot more white space."
   ]
  },
  {
   "cell_type": "code",
   "execution_count": 6,
   "metadata": {},
   "outputs": [
    {
     "data": {
      "text/plain": [
       "<matplotlib.axes._subplots.AxesSubplot at 0x7fd12b47c978>"
      ]
     },
     "execution_count": 6,
     "metadata": {},
     "output_type": "execute_result"
    },
    {
     "data": {
      "image/png": "[encoded data removed]",
      "text/plain": [
       "<matplotlib.figure.Figure at 0x7fd12b488b00>"
      ]
     },
     "metadata": {},
     "output_type": "display_data"
    }
   ],
   "source": [
    "sparse_values = [random.randrange(1,1001) for _ in range (200)]\n",
    "sns.stripplot(x=sparse_values, jitter=True)"
   ]
  },
  {
   "cell_type": "markdown",
   "metadata": {},
   "source": [
    "### `max()` & `min()`\n",
    "These built-in functions are useful for getting the range of our data, and just general inspection:"
   ]
  },
  {
   "cell_type": "code",
   "execution_count": 7,
   "metadata": {},
   "outputs": [
    {
     "name": "stdout",
     "output_type": "stream",
     "text": [
      "Max value: 1000\n",
      "Min value: 1\n"
     ]
    }
   ],
   "source": [
    "print(\"Max value: {}\\nMin value: {}\".format(\n",
    "    max(values), min(values)))"
   ]
  },
  {
   "cell_type": "markdown",
   "metadata": {},
   "source": [
    "### `sorted()`\n",
    "Another very important technique in wrangling data is sorting it. If we have a dataset of salaries, for example, and we want to see the 10 top earners, this is how we'd do it. Let's look now at the first 20 items in our sorted data set. Probably won't be too exciting though:"
   ]
  },
  {
   "cell_type": "code",
   "execution_count": 8,
   "metadata": {},
   "outputs": [
    {
     "data": {
      "text/plain": [
       "[1, 1, 1, 1, 1, 1, 1, 1, 1, 2, 2, 2, 2, 2, 2, 2, 2, 2, 3, 3]"
      ]
     },
     "execution_count": 8,
     "metadata": {},
     "output_type": "execute_result"
    }
   ],
   "source": [
    "sorted_vals = sorted(values)\n",
    "sorted_vals[0:20]"
   ]
  },
  {
   "cell_type": "markdown",
   "metadata": {},
   "source": [
    "If we wanted to sort values in-place (as in, perform an action like `values = sorted(values)`), we would use the `list` class' own `sort()` method: \n",
    "```python\n",
    "values.sort()```"
   ]
  },
  {
   "cell_type": "markdown",
   "metadata": {},
   "source": [
    "## The Mean\n",
    "The mean is a fancy statistical way to say \"average.\" You're all familiar with what average means. But mathemeticians like to be special and specific. There's not just one type of mean. In fact, we'll talk about 3 kinds of \"means\" that are all useful for different types of numbers.\n",
    "1. **Arithmetic mean** for common numbers\n",
    "2. **Geometric mean** for returns or growth\n",
    "3. **Harmonic mean** for ratios and rates\n",
    "\n",
    "Buckle up...\n",
    "\n",
    "### 1. Arithmetic mean\n",
    "This is your typical average. You've used it all your life. It's simply the sum of the elements divided by the length. Intuitively, think of it as if you made every element the exact same value so that the sum of all values remains the same as before. What would that value be?\n",
    "\n",
    "Mathematically the mean, denoted $\\mu$, looks like: \n",
    "\n",
    "$$\\mu = \\frac{x_1 + x_2 + \\cdots + x_n}{n}$$\n",
    "\n",
    "where $\\bar{x}$ is our mean, $x_i$ is a value at the $i$th index of our list, and $n$ is the length of that list.\n",
    "\n",
    "In Python, it's a simple operation combining two builtins we saw above: `sum()` and `len()`"
   ]
  },
  {
   "cell_type": "code",
   "execution_count": 9,
   "metadata": {},
   "outputs": [
    {
     "data": {
      "text/plain": [
       "502.1696"
      ]
     },
     "execution_count": 9,
     "metadata": {},
     "output_type": "execute_result"
    }
   ],
   "source": [
    "def arithmetic_mean(vals):\n",
    "    return sum(vals) / len(vals)\n",
    "\n",
    "arithmetic_mean(values)"
   ]
  },
  {
   "cell_type": "markdown",
   "metadata": {},
   "source": [
    "From this we see our average value is 502.1696. Let's double check that with our intuitive definition using the sum:"
   ]
  },
  {
   "cell_type": "code",
   "execution_count": 10,
   "metadata": {},
   "outputs": [
    {
     "name": "stdout",
     "output_type": "stream",
     "text": [
      "5021696 =? 5021696.0\n"
     ]
    }
   ],
   "source": [
    "avg_sum = len(values) * arithmetic_mean(values) #10,000 * 502.1696\n",
    "print(\"{} =? {}\".format(sum(values), avg_sum))"
   ]
  },
  {
   "cell_type": "markdown",
   "metadata": {},
   "source": [
    "### 2. Geometric mean\n",
    "The geometric mean is a similar idea but instead uses the product. It says if I multiply each value in our list together, what one value could I use instead to get the same result? \n",
    "\n",
    "The geometric mean is very useful in things like growth or returns (e.g. stocks) because adding returns doesn't give us the ability to get returns over a longer length of time. In other words, if I have a stock growing at 5% per year, what will be the total returns after 5 years?\n",
    "\n",
    "If you said 25%, you are wrong. It would be $1.05^5 - 1  \\approx 27.63\\%$\n",
    "\n",
    "Mathematically, our geometric is:\n",
    "$$ GM(x) = \\sqrt[n]{x_1 \\times x_2 \\times \\cdots \\times x_n }$$"
   ]
  },
  {
   "cell_type": "code",
   "execution_count": 11,
   "metadata": {},
   "outputs": [
    {
     "data": {
      "text/plain": [
       "1.041804547674296"
      ]
     },
     "execution_count": 11,
     "metadata": {},
     "output_type": "execute_result"
    }
   ],
   "source": [
    "returns = [1.05, 1.06, .98, 1.08]\n",
    "\n",
    "def product(vals):\n",
    "    ''' \n",
    "    This is a function that will multiply every item in the list\n",
    "    together reducing it to a single number. The Pythonic way to\n",
    "    do this would be to use the 'reduce' function like so:\n",
    "    > reduce(lambda x, y: x * y, vals)\n",
    "    We are explicit here for clairty.\n",
    "    '''\n",
    "    prod = 1\n",
    "    for x in vals:\n",
    "        prod = prod * x\n",
    "    return prod\n",
    "\n",
    "def geometric_mean(vals):\n",
    "    geo_mean = product(vals) ** (1/len(vals)) # raising to 1/n is the same as nth root\n",
    "    return geo_mean\n",
    "\n",
    "geom = geometric_mean(returns)\n",
    "geom"
   ]
  },
  {
   "cell_type": "markdown",
   "metadata": {},
   "source": [
    "Using our `product` function above, we can easily multiply all the values together to get what your return after 4 years is:"
   ]
  },
  {
   "cell_type": "code",
   "execution_count": 12,
   "metadata": {},
   "outputs": [
    {
     "data": {
      "text/plain": [
       "1.1779992000000004"
      ]
     },
     "execution_count": 12,
     "metadata": {},
     "output_type": "execute_result"
    }
   ],
   "source": [
    "product(returns)"
   ]
  },
  {
   "cell_type": "markdown",
   "metadata": {},
   "source": [
    "or roughly $17.8\\%$. Using our geometric mean should give us the same result:"
   ]
  },
  {
   "cell_type": "code",
   "execution_count": 13,
   "metadata": {},
   "outputs": [
    {
     "data": {
      "text/plain": [
       "1.1779992"
      ]
     },
     "execution_count": 13,
     "metadata": {},
     "output_type": "execute_result"
    }
   ],
   "source": [
    "geom**4"
   ]
  },
  {
   "cell_type": "markdown",
   "metadata": {},
   "source": [
    "Now look at what happens with the arithmetic mean:"
   ]
  },
  {
   "cell_type": "code",
   "execution_count": 14,
   "metadata": {},
   "outputs": [
    {
     "data": {
      "text/plain": [
       "1.0425"
      ]
     },
     "execution_count": 14,
     "metadata": {},
     "output_type": "execute_result"
    }
   ],
   "source": [
    "arm = arithmetic_mean(returns)\n",
    "arm"
   ]
  },
  {
   "cell_type": "code",
   "execution_count": 15,
   "metadata": {},
   "outputs": [
    {
     "data": {
      "text/plain": [
       "1.1811478250390623"
      ]
     },
     "execution_count": 15,
     "metadata": {},
     "output_type": "execute_result"
    }
   ],
   "source": [
    "arm**4"
   ]
  },
  {
   "cell_type": "markdown",
   "metadata": {},
   "source": [
    "The arithmetic mean would tell us that after 4 years, we should have an $18.1\\%$ return. But we know it should actually be a $17.8\\%$ return. It can be tricky to know when to use the arithmetic and geometric means. You also must remember to add the $1$ to your returns or it will not mathematically play nice."
   ]
  },
  {
   "cell_type": "markdown",
   "metadata": {},
   "source": [
    "### 3. Harmonic mean\n",
    "This one is also a bit tricky to get intuitively. Here we want an average of _rates_. Not to be confused with an average of _returns_. Recall a rate is simply a ratio between two quantities, like the price-to-earnings ratio of a stock or miles-per-hour of a car.\n",
    "\n",
    "Let's take a look at the mph example. If I have a car who goes 60mph for 50 miles, 50mph for another 50, and 40mph for yet another 50, then the car has traveled 150 miles in $\\frac{50mi}{60\\frac{mi}{h}} + \\frac{50mi}{50\\frac{mi}{h}} + \\frac{50mi}{40\\frac{mi}{h}} = 3.08\\bar{3}h$. This corresponds to a geometric mean of $150mi \\div 3.08\\bar{3}h \\approx 48.648mph$. Much different from our arithmetic mean of 50mph. \n",
    "\n",
    "(_Note: if in our example the car did not travel a clean 50 miles for every segment, we have to use a_ [weighted harmonic mean](https://en.wikipedia.org/wiki/Harmonic_mean#Weighted_harmonic_mean).)\n",
    "\n",
    "Mathematically, the harmonic mean looks like this:\n",
    "\n",
    "$$ \\frac{n}{\\frac{1}{x_1}+\\frac{1}{x_2}+\\cdots+\\frac{1}{x_n}} $$\n",
    "\n",
    "So let's code that up:"
   ]
  },
  {
   "cell_type": "code",
   "execution_count": 16,
   "metadata": {},
   "outputs": [
    {
     "data": {
      "text/plain": [
       "48.648648648648646"
      ]
     },
     "execution_count": 16,
     "metadata": {},
     "output_type": "execute_result"
    }
   ],
   "source": [
    "speeds = [60, 50, 40]\n",
    "\n",
    "def harmonic_mean(vals):\n",
    "    sum_recip = sum(1/x for x in vals)\n",
    "    return len(vals) / sum_recip\n",
    "\n",
    "harmonic_mean(speeds)"
   ]
  },
  {
   "cell_type": "markdown",
   "metadata": {},
   "source": [
    "Now you know about the three [Pythagorean means](https://en.wikipedia.org/wiki/Pythagorean_means). Thank me after you brag at your next party. Let's now move on to something very important in descriptive statistics:\n",
    "\n",
    "## The Median\n",
    "The median should be another familiar statistic, but often misquoted. When somebody is describing a set of numbers with just a mean, they might not be telling the whole story. For example, many sets of values are _skewed_ (a concept we will cover in the histogram section) in that most values are clustered around a certain area but have a long tail. Prices are usually good examples of this. Most wine is around \\$15-20, but we've all seen those super expensive bottles from a hermit's chateau in France. Salaries are also skewed (and politicians like to remind us how far skewed just 1\\% of these people are).\n",
    "\n",
    "A useful statistic in these cases is the \"median.\" The median gives us the middle value, as opposed to the average value. Here's a simple, but illustrative example:\n",
    "\n",
    "Suppose we take the salaries of 5 people at a bar\n",
    "\n",
    "[12000, 48000, 72000, 160000, 3360000]\n",
    "\n",
    "If I told you the average salary in this bar right now is \\$730,400, I'd be telling you the truth. But you can tell that our rich friend pulling in over 3 million is throwing off the curve. When he goes home early to do a business, the average drops to just \\$73,000. _A full 10 times less_.\n",
    "\n",
    "The median instead in this case is much more consistent, or in other words, not as prone to _outliers._ To find the median, we simply take the middle value. Or if there are an even number of entries, we take the average of the two middle values. Here it is in Python:"
   ]
  },
  {
   "cell_type": "code",
   "execution_count": 17,
   "metadata": {},
   "outputs": [
    {
     "data": {
      "text/plain": [
       "72000"
      ]
     },
     "execution_count": 17,
     "metadata": {},
     "output_type": "execute_result"
    }
   ],
   "source": [
    "salaries = [12000, 48000, 72000, 160000, 3360000]\n",
    "\n",
    "def median(vals):\n",
    "    n = len(vals)\n",
    "    sorted_vals = sorted(vals)\n",
    "    midpoint = n // 2\n",
    "    \n",
    "    if n % 2 == 1:\n",
    "        return sorted_vals[midpoint]\n",
    "    else:\n",
    "        return mean([sorted_vals[midpoint-1], sorted_vals[midpoint]])\n",
    "    \n",
    "median(salaries)"
   ]
  },
  {
   "cell_type": "markdown",
   "metadata": {},
   "source": [
    "A much more reasonable \\$7200! Now let's see what happens when Moneybags goes home:"
   ]
  },
  {
   "cell_type": "code",
   "execution_count": 18,
   "metadata": {},
   "outputs": [
    {
     "ename": "NameError",
     "evalue": "name 'mean' is not defined",
     "output_type": "error",
     "traceback": [
      "\u001b[0;31m---------------------------------------------------------------------------\u001b[0m",
      "\u001b[0;31mNameError\u001b[0m                                 Traceback (most recent call last)",
      "\u001b[0;32m<ipython-input-18-88d968f17fff>\u001b[0m in \u001b[0;36m<module>\u001b[0;34m()\u001b[0m\n\u001b[0;32m----> 1\u001b[0;31m \u001b[0mmedian\u001b[0m\u001b[0;34m(\u001b[0m\u001b[0msalaries\u001b[0m\u001b[0;34m[\u001b[0m\u001b[0;34m:\u001b[0m\u001b[0;34m-\u001b[0m\u001b[0;36m1\u001b[0m\u001b[0;34m]\u001b[0m\u001b[0;34m)\u001b[0m\u001b[0;34m\u001b[0m\u001b[0m\n\u001b[0m",
      "\u001b[0;32m<ipython-input-17-ae916c4b6149>\u001b[0m in \u001b[0;36mmedian\u001b[0;34m(vals)\u001b[0m\n\u001b[1;32m      9\u001b[0m         \u001b[0;32mreturn\u001b[0m \u001b[0msorted_vals\u001b[0m\u001b[0;34m[\u001b[0m\u001b[0mmidpoint\u001b[0m\u001b[0;34m]\u001b[0m\u001b[0;34m\u001b[0m\u001b[0m\n\u001b[1;32m     10\u001b[0m     \u001b[0;32melse\u001b[0m\u001b[0;34m:\u001b[0m\u001b[0;34m\u001b[0m\u001b[0m\n\u001b[0;32m---> 11\u001b[0;31m         \u001b[0;32mreturn\u001b[0m \u001b[0mmean\u001b[0m\u001b[0;34m(\u001b[0m\u001b[0;34m[\u001b[0m\u001b[0msorted_vals\u001b[0m\u001b[0;34m[\u001b[0m\u001b[0mmidpoint\u001b[0m\u001b[0;34m-\u001b[0m\u001b[0;36m1\u001b[0m\u001b[0;34m]\u001b[0m\u001b[0;34m,\u001b[0m \u001b[0msorted_vals\u001b[0m\u001b[0;34m[\u001b[0m\u001b[0mmidpoint\u001b[0m\u001b[0;34m]\u001b[0m\u001b[0;34m]\u001b[0m\u001b[0;34m)\u001b[0m\u001b[0;34m\u001b[0m\u001b[0m\n\u001b[0m\u001b[1;32m     12\u001b[0m \u001b[0;34m\u001b[0m\u001b[0m\n\u001b[1;32m     13\u001b[0m \u001b[0mmedian\u001b[0m\u001b[0;34m(\u001b[0m\u001b[0msalaries\u001b[0m\u001b[0;34m)\u001b[0m\u001b[0;34m\u001b[0m\u001b[0m\n",
      "\u001b[0;31mNameError\u001b[0m: name 'mean' is not defined"
     ]
    }
   ],
   "source": [
    "median(salaries[:-1])"
   ]
  },
  {
   "cell_type": "markdown",
   "metadata": {},
   "source": [
    "The median drops down to \\$60,000 (which is the average of \\$48,000 and \\$72,000).\n",
    "\n",
    "Let's take a look at our original `values` list of 10,000 numbers."
   ]
  },
  {
   "cell_type": "code",
   "execution_count": null,
   "metadata": {},
   "outputs": [],
   "source": [
    "median(values)"
   ]
  },
  {
   "cell_type": "code",
   "execution_count": null,
   "metadata": {},
   "outputs": [],
   "source": [
    "# Recall our values list is even, meaning 506.0 was both item 5000 and 5001\n",
    "len(values)"
   ]
  },
  {
   "cell_type": "code",
   "execution_count": null,
   "metadata": {},
   "outputs": [],
   "source": [
    "# Lopping off the end returns the same value\n",
    "median(values[:-1])"
   ]
  },
  {
   "cell_type": "code",
   "execution_count": null,
   "metadata": {},
   "outputs": [],
   "source": [
    "# Why? There are 9 506s in the list\n",
    "from collections import Counter\n",
    "c = Counter(values)\n",
    "c[506]"
   ]
  },
  {
   "cell_type": "markdown",
   "metadata": {},
   "source": [
    "Above we used the [`Counter`](https://docs.python.org/3.6/library/collections.html#collections.Counter) class in the standard library. This class is a subclass of the `dict` that holds a dictionary of keys to their counts. We can build our own version of it like so:"
   ]
  },
  {
   "cell_type": "code",
   "execution_count": null,
   "metadata": {},
   "outputs": [],
   "source": [
    "# Here we use the defaultdict that will initialize our first value if it doesn't yet exist\n",
    "from collections import defaultdict\n",
    "def make_counter(values):\n",
    "    counts = defaultdict(int)\n",
    "    for v in values:\n",
    "        counts[v] += 1\n",
    "    return counts\n",
    "\n",
    "counts = make_counter([1, 2, 2, 3, 5, 6, 6, 6])\n",
    "counts"
   ]
  },
  {
   "cell_type": "markdown",
   "metadata": {},
   "source": [
    "Remember this part because it will show up very soon when we talk about histograms, the chef's knife of a data scientist's data exploration kitchen.\n",
    "\n",
    "But first, there's one more descriptive statistic that we should cover. And that is \n",
    "\n",
    "## The Mode\n",
    "The mode is simply the most common element. If there are multiple elements with the same count, then there are two modes. If all elements have the same count, there are no modes. If the distribution is _continuous_ (meaning it can take uncountably infinite values, which we will discuss in the Distributions chapter), then we use ranges of values to determine the mode. Honestly, I don't really find the mode too useful. A good time to use it is if there's a lot of _categorical data_ (meaning values like \"blue\", \"red\", \"green\" instead of _numerical data_ like 1,2,3). You might want to know what color car your dealership has the most of.\n",
    "\n",
    "Let's take a look at that example now. I've built a set of cars with up to 20 cars of any of four colors."
   ]
  },
  {
   "cell_type": "code",
   "execution_count": null,
   "metadata": {
    "scrolled": true
   },
   "outputs": [],
   "source": [
    "car_colors = [\"red\"] * random.randint(1,20) + \\\n",
    "    [\"green\"] * random.randint(1,20) + \\\n",
    "    [\"blue\"] * random.randint(1,20) + \\\n",
    "    [\"black\"] * random.randint(1,20)\n",
    "colors"
   ]
  },
  {
   "cell_type": "code",
   "execution_count": null,
   "metadata": {},
   "outputs": [],
   "source": [
    "#Using our familiar counter\n",
    "color_count = Counter(colors)\n",
    "color_count"
   ]
  },
  {
   "cell_type": "code",
   "execution_count": null,
   "metadata": {},
   "outputs": [],
   "source": [
    "# We can see the mode above is 'blue' because we have 18. Let's verify:\n",
    "def mode(counter):\n",
    "    # store a list of name:count tuples in case multiple modes\n",
    "    modes = [('',0)]\n",
    "    for k,v in counter.items():\n",
    "        highest_count = modes[0][1]\n",
    "        if v > highest_count:\n",
    "            modes = [(k,v)]\n",
    "        elif v == highest_count:\n",
    "            modes.append((k,v))\n",
    "        \n",
    "    return modes\n",
    "mode(color_count)"
   ]
  },
  {
   "cell_type": "code",
   "execution_count": null,
   "metadata": {},
   "outputs": [],
   "source": [
    "# If we have multiple modes?\n",
    "mode(Counter(['blue']*3 + ['green']*3 + ['black']*2))"
   ]
  },
  {
   "cell_type": "markdown",
   "metadata": {},
   "source": [
    "But that's enough about modes. Check out wikipedia if you want more because there's no point spending more time on them then they're worth.\n",
    "\n",
    "Hang in there, because we're getting close. Still to come is Percentiles, Boxplots, and Histograms. Three very import things.\n",
    "\n",
    "Let's get to it.\n",
    "\n",
    "## Percentiles\n",
    "A percentile is familiar to anyone who has taken the SAT. It answers the question: what percentage of students are dumber than I am? Well the College Board would love to tell you: congratulations, you're in the 92nd percentile!\n",
    "\n",
    "Let's take a look at our old friend Mr. `values` with 10,000 numbers from 1-1000. Since this list is _uniformly distributed_, meaning every value is as likely to occur as any other, we expect that 25% of the numbers to be below 250, 50% to be below 500, and 75% to be below 750. Let's verify:"
   ]
  },
  {
   "cell_type": "code",
   "execution_count": null,
   "metadata": {},
   "outputs": [],
   "source": [
    "def percentile(vals, elem):\n",
    "    '''Returns the percent of numbers\n",
    "    below the index.\n",
    "    '''\n",
    "    count = 0\n",
    "    sorted_val = sorted(values)\n",
    "    for val in sorted_val:\n",
    "        if val > elem:\n",
    "            return count/len(values)\n",
    "        count += 1\n",
    "\n",
    "for num in [250, 500, 750]:\n",
    "    print(\"Percentile for {}: {}%\".format(num, percentile(values, num)*100))"
   ]
  },
  {
   "cell_type": "markdown",
   "metadata": {},
   "source": [
    "Just like we'd expect. Now if the data set is not so nice and uniform, we expect these values to be quite different. Let's write a function to give us an element at a particular percentile:"
   ]
  },
  {
   "cell_type": "code",
   "execution_count": null,
   "metadata": {},
   "outputs": [],
   "source": [
    "from math import ceil\n",
    "def pct_value(vals, pct):\n",
    "    sorted_vals = sorted(vals)\n",
    "    n = len(vals)\n",
    "    return sorted_vals[ceil(n*pct)]\n",
    "\n",
    "for pct in [.25, .5, .75]:\n",
    "    print(\"Element at percentile {}%: {}\".format(pct*100, pct_value(values, pct)))"
   ]
  },
  {
   "cell_type": "markdown",
   "metadata": {},
   "source": [
    "Notice how the element at the 50th percentile is also our median! Now we have a second definition of the median.\n",
    "\n",
    "Let's take a look now at a highly skewed set. It will range from 0-100 but we'll cluster it around 10"
   ]
  },
  {
   "cell_type": "code",
   "execution_count": null,
   "metadata": {
    "collapsed": true
   },
   "outputs": [],
   "source": [
    "skewed = []\n",
    "for i in range(1,100):\n",
    "    skewed += [i]*random.randint(0,int(4+i//abs(10.1-i)))"
   ]
  },
  {
   "cell_type": "code",
   "execution_count": null,
   "metadata": {},
   "outputs": [],
   "source": [
    "def print_statistics(vals, calc_mode=True):\n",
    "    print(\"Count: {}\".format(len(vals)))\n",
    "    print(\"Mean: {}\".format(mean(vals)))\n",
    "    print(\"Median: {}\".format(median(vals)))\n",
    "    if calc_mode: print(\"Mode: {}\".format(mode(Counter(vals))))\n",
    "    print(\"Max: {}\".format(max(vals)))\n",
    "    print(\"Min: {}\".format(min(vals)))\n",
    "    print(\"Range: {}\".format(max(vals)-min(vals)))\n",
    "    for pct in [.25, .5, .75]:\n",
    "        print(\"Element at percentile {}%: {}\".format(pct*100, pct_value(vals, pct)))\n",
    "    print(\"IQR: {}\".format(pct_value(vals, 0.75) - pct_value(vals, 0.25)))\n",
    "\n",
    "print_statistics(skewed)"
   ]
  },
  {
   "cell_type": "markdown",
   "metadata": {},
   "source": [
    "A few clues that this distribution is skewed:\n",
    "* The mean is significantly different from the median\n",
    "* The percentiles cluster around 25. A uniform distribution we'd expect 25, 50, and 75 for our percentiles.\n",
    "* The max i smuch higher than the mean, median, or even 75th percentile.\n",
    "\n",
    "Let's take a look at a simple plot to describe all of these statistics to us:\n",
    "\n",
    "## The Boxplot\n",
    "Also sometimes the Box-and-Whisker plot, this is a great way to visualize a lot of the information our `print_statistics` function displayed. In particular, we can see in one graph\n",
    "* Median\n",
    "* 75th percentile (called the third quartile)\n",
    "* 25th percentile (called the first quartile)\n",
    "* The reach ($\\pm1.5*IQR$), which shows outliers\n",
    "\n",
    "It does not show the mean, but it can be intuited by looking at the plot. Let's take a look at plots for values and skewed:"
   ]
  },
  {
   "cell_type": "code",
   "execution_count": null,
   "metadata": {},
   "outputs": [],
   "source": [
    "sns.boxplot(values)"
   ]
  },
  {
   "cell_type": "markdown",
   "metadata": {},
   "source": [
    "A classic uniform distribution: centered about 500, the median goes right down the middle, and the whiskers are evenly spaced. Now let's take a look at the `skewed` list:"
   ]
  },
  {
   "cell_type": "code",
   "execution_count": null,
   "metadata": {},
   "outputs": [],
   "source": [
    "sns.boxplot(skewed)"
   ]
  },
  {
   "cell_type": "markdown",
   "metadata": {},
   "source": [
    "Looks pretty different? Instead of being centered around 50, it looks like the box is centered around 40. The median is at 27 and much of the box is to the right of it. This shows us that the distribution is skewed to the right. \n",
    "\n",
    "There's another important way to visualize a distribution and that is\n",
    "\n",
    "## Histogram\n",
    "Ah, the moment we've all been waiting for. I keep teaching you ways to describe a dataset, but sometimes a picture is worth a thousand words. That picture is the Histogram.\n",
    "\n",
    "A histogram is a bar chart in which the values of the dataset are plotted horizontally on the X axis and the _frequencies_ (i.e. how many times that value was seen) are plotted on the Y axis. If you remember our functions to make a counter, a histogram is essentially a chart of those counts.\n",
    "\n",
    "Think for a minute on what the histogram for our uniform dataset of 10,000 randomly generated numbers would look like? Pretty boring right?"
   ]
  },
  {
   "cell_type": "code",
   "execution_count": null,
   "metadata": {},
   "outputs": [],
   "source": [
    "# Seaborn gives an easy way to plot histograms. Plotting from scratch is beyond the\n",
    "# scope of the programming we will do\n",
    "sns.distplot(values, kde=False, bins=100)"
   ]
  },
  {
   "cell_type": "markdown",
   "metadata": {},
   "source": [
    "Seaborn's helpful `sns.distplot()` method simply turns a dataset into a histogram for us. The `bins` parameter allows us to make bins where instead of the frequency count of each variable, we plot the frequency count of a range of variables. This is very useful when we have continuous distribution (i.e. one that can take an infinite number of values of the range), as plotting every individual value is unfeasible and would make for an ugly graph.\n",
    "\n",
    "Let's take a look at our skewed data:"
   ]
  },
  {
   "cell_type": "code",
   "execution_count": null,
   "metadata": {},
   "outputs": [],
   "source": [
    "sns.distplot(skewed, kde=False, bins=100)"
   ]
  },
  {
   "cell_type": "markdown",
   "metadata": {},
   "source": [
    "The data has tons of values around 10, and everything else hovers around 4. This type of distribution is called \"unimodal\" in that it has one peak, or one \"contender\" for the mode. Practically, unimodal and bimodal are incredibly common.\n",
    "\n",
    "I'm going to jump ahead to the next notebooks where we generate and describe different types of these distributions, how they're used, and how to describe them. One of the most basic and fundamental distribution in statistics is the unimodal Normal (or Gaussian) distribution. It's the familiar bell-curve. Let's use a simple, albeit slow, function to generate numbers according to the normal distribution (taken from https://www.taygeta.com/random/gaussian.html)"
   ]
  },
  {
   "cell_type": "code",
   "execution_count": null,
   "metadata": {
    "collapsed": true
   },
   "outputs": [],
   "source": [
    "from math import sqrt, log, cos, sin, pi\n",
    "\n",
    "def generateGauss():\n",
    "    x1 = random.random() # generate a random float in [0,1.0)\n",
    "    x2 = random.random()\n",
    "    y1 = sqrt(-2 *log(x1)) * cos(2*pi*x2)\n",
    "    y2 = sqrt(-2*log(x1)) * sin(2*pi*x2)\n",
    "    return y1, y2\n",
    "\n",
    "gaussValues = []\n",
    "for _ in range(10000):\n",
    "    gaussValues += list(generateGauss())"
   ]
  },
  {
   "cell_type": "code",
   "execution_count": null,
   "metadata": {},
   "outputs": [],
   "source": [
    "#Let's take a peek:\n",
    "gaussValues"
   ]
  },
  {
   "cell_type": "code",
   "execution_count": null,
   "metadata": {},
   "outputs": [],
   "source": [
    "# and print our statistics\n",
    "print_statistics(gaussValues, calc_mode=False)"
   ]
  },
  {
   "cell_type": "markdown",
   "metadata": {},
   "source": [
    "The nature of the function is such that the mean should fall around 0. It looks like we accompished that. Also note how the 25th and 50th percentile are roughly the same number. This is an indication that the distribution is not significantly skewed. Let's take a look at it's histogram:"
   ]
  },
  {
   "cell_type": "code",
   "execution_count": null,
   "metadata": {},
   "outputs": [],
   "source": [
    "sns.distplot(gaussValues, kde=False)"
   ]
  },
  {
   "cell_type": "markdown",
   "metadata": {},
   "source": [
    "Get used to this image because you will see it _everywhere_ in statistics, data science, and life. Even though there are many many distributions out there (and even more variations on each of those), most people will be happy to apply the \"bell curve\" to almost anything. Chance are, though, they're right.\n",
    "\n",
    "\n",
    "## Variability\n",
    "Let's talk about one more descriptive statistic that describes to us how much the values vary. In other words, if we're looking at test scores, did everyone do about the same? Or were there some big winners and losers?\n",
    "\n",
    "Mathemeticians call this the _variability_. There are three major measures of variability: range, inter-quartile range (IQR), and variation/standard devaition.\n",
    "\n",
    "### 1. Range\n",
    "Range is a very simple measure: how far apart could my values possibly be? In our generated datasets above, the answer was pretty obvious. We generated a random number from 0 to 1000, so the range was $1000-0 = 1000$. The values of x could never go outside of this range.\n",
    "\n",
    "But what about our gaussian values? The tandard normal distribution has asymptotic end points instead of absolute end points, so it's not so clean. We can see from the graph above that it doesn't look like there are any values above and below 4, so we'd expect a range of something around 8:"
   ]
  },
  {
   "cell_type": "code",
   "execution_count": null,
   "metadata": {},
   "outputs": [],
   "source": [
    "print(\"Max: {}\\nMin: {}\\nRange: {}\".format(\n",
    "    max(gaussValues),\n",
    "    min(gaussValues),\n",
    "    max(gaussValues) - min(gaussValues)))"
   ]
  },
  {
   "cell_type": "markdown",
   "metadata": {},
   "source": [
    "Exactly what we expected. In practice, the range is a good descriptive statistic, but you can't do many other interesting things with it. It basically let's you say \"our results were between X and Y\", but nothing too much more profound. \n",
    "\n",
    "Another good way to describe the range is called\n",
    "\n",
    "### 2. Inter-Quartile Range\n",
    "or IQR for short. This is a similar technique where instead of taking the difference between the max and min values, we take the difference between the 75th and 25th percentile. It gives a good sense of the range because it excludes outliers and tells you where the middle 50% of the values are grouped. Of course, this is most useful when we're looking at a unimodal distribution like our normal distribution, because for a distribution that's bimodal (i.e. has many values at either end of the range), it will be misleading.\n",
    "\n",
    "Here's how we caluclated it:"
   ]
  },
  {
   "cell_type": "code",
   "execution_count": null,
   "metadata": {},
   "outputs": [],
   "source": [
    "print(\"75th: {}\\n25th: {}\\nIQR: {}\".format(\n",
    "    pct_value(gaussValues, .75),\n",
    "    pct_value(gaussValues, .25),\n",
    "    pct_value(gaussValues, .75) - pct_value(gaussValues, .25)\n",
    "))"
   ]
  },
  {
   "cell_type": "markdown",
   "metadata": {},
   "source": [
    "So again, this tells us that 50% of our values are between -0.68 and 0.68 and all within the same 1.35 values. Comparing this to the range (which is not at all influenced by percentages of values), this gives you the sense that the're bunched around the mean.\n",
    "\n",
    "If we want a little more predictive power, though, it's time to talk about\n",
    "\n",
    "### 3. Variance\n",
    "\n",
    "Variance is a measure of how much values typically deviate (i.e. how far away they are) from the mean.\n",
    "\n",
    "If we want to calculate the variance, then we first see how far a value is from the mean ($\\mu$), square it (which gets rid of the negative), sum them up, and divide by $n$. Essentially, it's an average where the value is the deviation squared instead of the value itself. Here's the formula for variance, denoted by $\\sigma^2$:\n",
    "\n",
    "$$ \\sigma^2 = \\frac{(x_1 - \\mu)^2+(x_2 - \\mu)^2+ \\cdots + (x_n - \\mu)^2}{n} $$\n",
    "\n",
    "Let's code that up:"
   ]
  },
  {
   "cell_type": "code",
   "execution_count": null,
   "metadata": {},
   "outputs": [],
   "source": [
    "def variance(vals):\n",
    "    n = len(vals)\n",
    "    m = mean(vals)\n",
    "    variance = 0\n",
    "    for x in vals:\n",
    "        variance += (x - m)**2\n",
    "    return variance/n\n",
    "\n",
    "variance(gaussValues)"
   ]
  },
  {
   "cell_type": "markdown",
   "metadata": {},
   "source": [
    "The variance four our generated Gaussian numbers is roughly 1, which is another condition of a standard normal distribution (mean is 0, variance is 1). So no surprise. But the variance is a bit of a tricky number to intuit because it is the average of the _squared_ differences between the mean. Take our skewed for example:"
   ]
  },
  {
   "cell_type": "code",
   "execution_count": null,
   "metadata": {},
   "outputs": [],
   "source": [
    "variance(skewed)"
   ]
  },
  {
   "cell_type": "markdown",
   "metadata": {},
   "source": [
    "How do you interpret this? The max value is 100, so is a variance of 934.8 a lot or a little? Also, let's say the skewed distribution was a measure of price in dollars. Therefore, the units of variance would be 934.8 dollars squared. Doesn't make a whole lot of sense.\n",
    "\n",
    "For this reason, most people will take the square root of the variance to give them a value called the **standard deviation**: $\\sigma = \\sqrt{\\sigma^2}$."
   ]
  },
  {
   "cell_type": "code",
   "execution_count": null,
   "metadata": {},
   "outputs": [],
   "source": [
    "def stddev(vals):\n",
    "    return sqrt(variance(vals))\n",
    "stddev(skewed)"
   ]
  },
  {
   "cell_type": "markdown",
   "metadata": {},
   "source": [
    "This is much more approchable. It's saying the standard devaition from our mean is \\$30. That is an easy number to digest. This is a very important number to be able to grok. I'll repeat it to drive the point home:\n",
    "\n",
    "The _standard deviation_ is a measure of how \"spread out\" a distribution is. The higher the value, the further a typical observation from our population is from the mean of that population.\n",
    "\n",
    "The standard devation, range, and IQR all give measures of this dispersion of a distribution. However, for reasons we will see later, the standard devaition is the work horse of them all. By knowing the standard deviation of a population (or sample, as the case often is), we can begin to judge how likely a value is to get, or how sure we are of our own guesses. Statistics is a glorified guessing game, and stddev is one of the most important tools."
   ]
  },
  {
   "cell_type": "markdown",
   "metadata": {},
   "source": [
    "## Next time\n",
    "Some of the topics to look forward to are\n",
    "\n",
    "* Paired data\n",
    "    * Scatter plots\n",
    "    * Explanatory vs response variables\n",
    "    * Covariance and correlation\n",
    "* Random Variables and Probability\n",
    "* Distributions\n",
    "    * Discrete vs Continuous\n",
    "    * Descriptive statistics of distributions\n",
    "    * Major types of distributions\n",
    "        * Normal\n",
    "        * Geometric\n",
    "        * Binomial\n",
    "        * Poisson\n",
    "        * Chi-squared ($\\chi^2$)\n",
    "        * Weibull\n",
    "* Inferential statistics\n",
    "    * Sampling distributions and statistics\n",
    "    * Central limit theorem\n",
    "    * Hypothesis testing\n"
   ]
  },
  {
   "cell_type": "markdown",
   "metadata": {},
   "source": [
    "## Useful Resources\n",
    "The git repository for this notebook (and all notebooks) is found [here](https://github.com/eds-admin/eds-blog/blob/master/Statistics/Descriptive%20Statistics.ipynb). Feel free to submit a pull request or issue there, or download and work with the notebook yourself.\n",
    "\n",
    "I found these resources particularly useful in compiling this notebook:\n",
    "* [Online Stat Book](http://onlinestatbook.com/)\n",
    "* [OpenIntro Statistics](https://www.openintro.org/stat/textbook.php)\n",
    "\n",
    "Found others? [Drop us a line](mailto:eds@educationofadatascientist.com). Until next time."
   ]
  }
 ],
 "metadata": {
  "kernelspec": {
   "display_name": "Python 3",
   "language": "python",
   "name": "python3"
  },
  "language_info": {
   "codemirror_mode": {
    "name": "ipython",
    "version": 3
   },
   "file_extension": ".py",
   "mimetype": "text/x-python",
   "name": "python",
   "nbconvert_exporter": "python",
   "pygments_lexer": "ipython3",
   "version": "3.5.2"
  },
  "toc": {
   "colors": {
    "hover_highlight": "#DAA520",
    "navigate_num": "#000000",
    "navigate_text": "#333333",
    "running_highlight": "#FF0000",
    "selected_highlight": "#FFD700",
    "sidebar_border": "#EEEEEE",
    "wrapper_background": "#FFFFFF"
   },
   "moveMenuLeft": true,
   "nav_menu": {
    "height": "30px",
    "width": "252px"
   },
   "navigate_menu": true,
   "number_sections": false,
   "sideBar": true,
   "skip_h1_title": false,
   "threshold": 4,
   "toc_cell": true,
   "toc_section_display": "none",
   "toc_window_display": true,
   "widenNotebook": false
  }
 },
 "nbformat": 4,
 "nbformat_minor": 2
}
